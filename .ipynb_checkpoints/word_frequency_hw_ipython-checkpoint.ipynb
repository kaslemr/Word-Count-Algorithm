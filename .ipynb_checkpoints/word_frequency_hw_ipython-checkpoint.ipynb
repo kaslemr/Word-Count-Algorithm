{
 "cells": [
  {
   "cell_type": "code",
   "execution_count": 89,
   "metadata": {
    "collapsed": true
   },
   "outputs": [],
   "source": [
    "import operator"
   ]
  },
  {
   "cell_type": "code",
   "execution_count": 31,
   "metadata": {
    "collapsed": false
   },
   "outputs": [],
   "source": [
    "with open (\"sample.txt\") as infile:\n",
    "    book = infile.read()"
   ]
  },
  {
   "cell_type": "code",
   "execution_count": 44,
   "metadata": {
    "collapsed": false,
    "scrolled": true
   },
   "outputs": [],
   "source": [
    "def word_count(book):\n",
    "    book = book.lower()\n",
    "    new_book = \"\"\n",
    "    for letter in book:\n",
    "        if letter in string.ascii_lowercase: \n",
    "            new_book += letter\n",
    "        if letter not in string.ascii_lowercase:\n",
    "            new_book += \" \"\n",
    "    new_book = new_book.split()\n",
    "    word_list = {}\n",
    "    for word in new_book:\n",
    "        if word in word_list.keys():\n",
    "            word_list[word] += 1\n",
    "        else:\n",
    "            word_list[word] = 1\n",
    "    word_list = sorted(x.items(), key=operator.itemgetter(1), reverse=True)\n",
    "    return word_list\n",
    "\n",
    "\n"
   ]
  },
  {
   "cell_type": "code",
   "execution_count": null,
   "metadata": {
    "collapsed": true
   },
   "outputs": [],
   "source": []
  }
 ],
 "metadata": {
  "kernelspec": {
   "display_name": "Python 3",
   "language": "python",
   "name": "python3"
  },
  "language_info": {
   "codemirror_mode": {
    "name": "ipython",
    "version": 3
   },
   "file_extension": ".py",
   "mimetype": "text/x-python",
   "name": "python",
   "nbconvert_exporter": "python",
   "pygments_lexer": "ipython3",
   "version": "3.5.0"
  }
 },
 "nbformat": 4,
 "nbformat_minor": 0
}
